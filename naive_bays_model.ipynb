{
 "cells": [
  {
   "cell_type": "code",
   "execution_count": 1,
   "metadata": {},
   "outputs": [],
   "source": [
    "import numpy as np\r\n",
    "import pandas as pd"
   ]
  },
  {
   "cell_type": "code",
   "execution_count": 3,
   "metadata": {},
   "outputs": [],
   "source": [
    "from sklearn.tree import DecisionTreeClassifier\r\n",
    "from sklearn.model_selection import train_test_split\r\n",
    "from sklearn.naive_bayes import GaussianNB\r\n",
    "from sklearn.metrics import classification_report\r\n",
    "from sklearn.metrics import confusion_matrix \r\n",
    "from sklearn import tree\r\n",
    "from sklearn.metrics import accuracy_score\r\n",
    "#from sklearn.metrics import plot_confusion_matrix\r\n",
    "from imblearn.over_sampling import SMOTE\r\n",
    "from sklearn.model_selection import GridSearchCV"
   ]
  },
  {
   "cell_type": "code",
   "execution_count": null,
   "metadata": {},
   "outputs": [],
   "source": [
    "df = pd.read_csv(\"CleanedEV.csv\") "
   ]
  },
  {
   "cell_type": "code",
   "execution_count": null,
   "metadata": {},
   "outputs": [],
   "source": [
    "df.head()"
   ]
  },
  {
   "cell_type": "code",
   "execution_count": null,
   "metadata": {},
   "outputs": [],
   "source": [
    "dataX = df.drop(columns=['HFUEL'])\r\n",
    "dataY = df[['HFUEL']]"
   ]
  },
  {
   "cell_type": "code",
   "execution_count": null,
   "metadata": {},
   "outputs": [],
   "source": [
    "X_train, X_test, y_train, y_test = train_test_split(dataX, dataY, test_size=0.2)"
   ]
  },
  {
   "cell_type": "code",
   "execution_count": null,
   "metadata": {},
   "outputs": [],
   "source": [
    "gnb = GaussianNB(priors=None, var_smoothing=1.0)\r\n",
    "param_grid_nb = {\r\n",
    "    'var_smoothing': np.logspace(0,-9, num=100)\r\n",
    "}\r\n",
    "nbModel_grid = GridSearchCV(estimator=gnb, param_grid=param_grid_nb, verbose=1, cv=10, n_jobs=-1)\r\n",
    "nbModel_grid.fit(X_train, y_train)\r\n",
    "print(nbModel_grid.best_estimator_)\r\n",
    "print(nbModel_grid.score(X_test, y_test))\r\n",
    "\r\n",
    "y_pred = nbModel_grid.predict(X_test) \r\n",
    "print(classification_report(y_test,y_pred))  "
   ]
  },
  {
   "cell_type": "code",
   "execution_count": null,
   "metadata": {},
   "outputs": [],
   "source": [
    "confusion_matrix(y_pred, y_test) "
   ]
  },
  {
   "cell_type": "markdown",
   "metadata": {},
   "source": [
    "# Using SMOTE"
   ]
  },
  {
   "cell_type": "code",
   "execution_count": null,
   "metadata": {},
   "outputs": [],
   "source": [
    "dataX_over = df.drop(columns=['HFUEL'])\r\n",
    "dataY_over = df[['HFUEL']]\r\n",
    "Over_Sample = SMOTE()\r\n",
    "dataX_over , dataY_over = Over_Sample.fit_resample(dataX_over,dataY_over)"
   ]
  },
  {
   "cell_type": "code",
   "execution_count": null,
   "metadata": {},
   "outputs": [],
   "source": [
    "X_train_over, X_test_over, y_train_over, y_test_over = train_test_split(dataX_over, dataY_over, test_size = 0.2)"
   ]
  },
  {
   "cell_type": "code",
   "execution_count": null,
   "metadata": {},
   "outputs": [],
   "source": [
    "gnb = GaussianNB(priors=None, var_smoothing=1.0)\r\n",
    "param_grid_nb = {\r\n",
    "    'var_smoothing': np.logspace(0,-9, num=100)\r\n",
    "}\r\n",
    "nbModel_grid = GridSearchCV(estimator=gnb, param_grid=param_grid_nb, verbose=1, cv=10, n_jobs=-1)\r\n",
    "nbModel_grid.fit(X_train_over, y_train_over)\r\n",
    "print(nbModel_grid.best_estimator_)\r\n",
    "print(nbModel_grid.score(X_test_over, y_test_over))\r\n",
    "\r\n",
    "y_pred = nbModel_grid.predict(X_test_over) \r\n",
    "print(classification_report(y_test_over,y_pred)) "
   ]
  },
  {
   "cell_type": "code",
   "execution_count": null,
   "metadata": {},
   "outputs": [],
   "source": [
    "confusion_matrix(y_pred, y_test_over) "
   ]
  }
 ],
 "metadata": {
  "kernelspec": {
   "display_name": "Python 3.8.5 64-bit ('base': conda)",
   "name": "python385jvsc74a57bd02953d71d05af6f476f9dc70b8b57359f0b48186a5a1adf31859554f18703e647"
  },
  "language_info": {
   "codemirror_mode": {
    "name": "ipython",
    "version": 3
   },
   "file_extension": ".py",
   "mimetype": "text/x-python",
   "name": "python",
   "nbconvert_exporter": "python",
   "pygments_lexer": "ipython3",
   "version": "3.8.5"
  },
  "orig_nbformat": 2
 },
 "nbformat": 4,
 "nbformat_minor": 2
}